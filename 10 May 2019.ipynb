{
 "cells": [
  {
   "cell_type": "markdown",
   "metadata": {},
   "source": [
    "## Problem 1:\n",
    "Procedure to check if a given number is a Perfect Number. ( Perfect number is a number for which the sum of all it's divisors is equal to the number itself).\n",
    "### Test cases:\n",
    "IsPerfect(3) -> False\n",
    "\n",
    "IsPerfect (6) -> True"
   ]
  },
  {
   "cell_type": "code",
   "execution_count": 46,
   "metadata": {},
   "outputs": [
    {
     "name": "stdout",
     "output_type": "stream",
     "text": [
      "True\n",
      "False\n"
     ]
    }
   ],
   "source": [
    "def pn(a):\n",
    "    sum=0\n",
    "    for i in range(1,a):\n",
    "        if(a%i==0):\n",
    "            sum=sum+i\n",
    "    if(sum==a):\n",
    "        return True\n",
    "    else:\n",
    "        return False\n",
    "print(pn(6))\n",
    "print(pn(3))\n",
    "    \n",
    "     \n",
    "        \n",
    "    "
   ]
  },
  {
   "cell_type": "markdown",
   "metadata": {},
   "source": [
    "## Problem 2:\n",
    "Design a procedure calculate the maximum, minimum and average of N numbers.\n",
    "### Test cases:\n",
    "data( a[1,2,3,4,5] ) -> Max = 5, Min = 1, Avg = 3"
   ]
  },
  {
   "cell_type": "code",
   "execution_count": 27,
   "metadata": {},
   "outputs": [
    {
     "data": {
      "text/plain": [
       "(5, 1, 3)"
      ]
     },
     "execution_count": 27,
     "metadata": {},
     "output_type": "execute_result"
    }
   ],
   "source": [
    "def max_min_avg(n):\n",
    "    return max(n),min(n),(sum(n)//len(n))\n",
    "max_min_avg([1,2,3,4,5])"
   ]
  },
  {
   "cell_type": "markdown",
   "metadata": {},
   "source": [
    "## Problem 3:\n",
    "Design a procedure to determine if a given string is a Palindrome.\n",
    "### Test cases:\n",
    "Palindrome(\"racecar\") -> True\n",
    "\n",
    "Palindrome(\"raptor\") -> False"
   ]
  },
  {
   "cell_type": "code",
   "execution_count": 45,
   "metadata": {},
   "outputs": [
    {
     "name": "stdout",
     "output_type": "stream",
     "text": [
      "True\n",
      "False\n"
     ]
    }
   ],
   "source": [
    "def palindrome(a):\n",
    "    ra=a[len(a)-1::-1]\n",
    "    if(a==ra):\n",
    "        return True\n",
    "    else:\n",
    "        return False\n",
    "print(palindrome(\"racecar\"))\n",
    "\n",
    "print(palindrome(\"raptor\"))\n",
    "\n",
    "\n",
    "    "
   ]
  },
  {
   "cell_type": "markdown",
   "metadata": {},
   "source": [
    "## Problem 4:\n",
    "Design a procedure to calculate the squareroot of a number \"without using the math function sqrt\".\n",
    "### Test cases:\n",
    "Squareroot(36) -> 6"
   ]
  },
  {
   "cell_type": "code",
   "execution_count": 51,
   "metadata": {},
   "outputs": [
    {
     "data": {
      "text/plain": [
       "6.0"
      ]
     },
     "execution_count": 51,
     "metadata": {},
     "output_type": "execute_result"
    }
   ],
   "source": [
    "def sq(a):\n",
    "    return a**0.5\n",
    "sq(36)\n",
    "\n",
    "        "
   ]
  },
  {
   "cell_type": "markdown",
   "metadata": {},
   "source": [
    "## Problem 5:\n",
    "Design a procedure to determine the frequency count of numbers in a given list.\n",
    "### Test cases:\n",
    "Frequency( a[1,3,2,1] )  ->  1 : 2, 2 : 1, 3 : 1\n",
    "\n",
    "Frequency( a[1,2,3,5,1,6,7,2]) -> "
   ]
  },
  {
   "cell_type": "code",
   "execution_count": 4,
   "metadata": {},
   "outputs": [
    {
     "name": "stdout",
     "output_type": "stream",
     "text": [
      "{1: 2, 3: 1, 2: 1}\n",
      "{1: 2, 2: 2, 3: 1, 5: 1, 6: 1, 7: 1}\n"
     ]
    }
   ],
   "source": [
    "def unique(ar):\n",
    "    u=[]\n",
    "    for x in ar:\n",
    "        if x not in u:\n",
    "            u.append(x)\n",
    "    return u\n",
    "def freq(a):\n",
    "    d={}\n",
    "    u=unique(a)\n",
    "    for x in u:\n",
    "        count=0\n",
    "        for i in range(len(a)):\n",
    "            if(x==a[i]):\n",
    "                count=count+1\n",
    "        d[x]=count\n",
    "    return d\n",
    "print(freq([1,3,2,1]))\n",
    "\n",
    "print(freq([1,2,3,5,1,6,7,2]))\n"
   ]
  },
  {
   "cell_type": "markdown",
   "metadata": {},
   "source": [
    "## Problem 6:\n",
    "Power of a given number."
   ]
  },
  {
   "cell_type": "code",
   "execution_count": 6,
   "metadata": {},
   "outputs": [
    {
     "data": {
      "text/plain": [
       "1024"
      ]
     },
     "execution_count": 6,
     "metadata": {},
     "output_type": "execute_result"
    }
   ],
   "source": [
    "def power(n,r):\n",
    "    prod=1\n",
    "    for i in range(1,r+1):\n",
    "        prod *= n\n",
    "    return prod\n",
    "power(2,10)"
   ]
  },
  {
   "cell_type": "markdown",
   "metadata": {},
   "source": [
    "## Problem 7:\n",
    "Recursive power of a given number."
   ]
  },
  {
   "cell_type": "code",
   "execution_count": 9,
   "metadata": {},
   "outputs": [
    {
     "data": {
      "text/plain": [
       "16"
      ]
     },
     "execution_count": 9,
     "metadata": {},
     "output_type": "execute_result"
    }
   ],
   "source": [
    "def recursivepower(n,r):\n",
    "    if(r==1):\n",
    "        return n\n",
    "    else:\n",
    "        return recursivepower(n,r-1)*n\n",
    "recursivepower(2,4)"
   ]
  },
  {
   "cell_type": "markdown",
   "metadata": {},
   "source": [
    "## Problem 8:\n",
    "To find the factorial using recursion."
   ]
  },
  {
   "cell_type": "code",
   "execution_count": 11,
   "metadata": {},
   "outputs": [
    {
     "name": "stdout",
     "output_type": "stream",
     "text": [
      "120\n",
      "720\n"
     ]
    }
   ],
   "source": [
    "def factorial(a):\n",
    "    if(a!=0):\n",
    "        f=a*factorial(a-1)\n",
    "        return f\n",
    "    else:\n",
    "        return 1\n",
    "print(factorial(5))\n",
    "print(factorial(6))"
   ]
  },
  {
   "cell_type": "markdown",
   "metadata": {},
   "source": [
    "## Problem 9:\n",
    "To find GCD of 2 numbers using recursion."
   ]
  },
  {
   "cell_type": "code",
   "execution_count": 14,
   "metadata": {},
   "outputs": [
    {
     "data": {
      "text/plain": [
       "3"
      ]
     },
     "execution_count": 14,
     "metadata": {},
     "output_type": "execute_result"
    }
   ],
   "source": [
    "def gcdRecursive(a,b):\n",
    "    if(b%a==0):\n",
    "        return a\n",
    "    else:\n",
    "        return gcdRecursive(b%a,a)\n",
    "gcdRecursive(12,39)"
   ]
  },
  {
   "cell_type": "code",
   "execution_count": 24,
   "metadata": {},
   "outputs": [
    {
     "data": {
      "text/plain": [
       "3"
      ]
     },
     "execution_count": 24,
     "metadata": {},
     "output_type": "execute_result"
    }
   ],
   "source": [
    "#iterative gcd\n",
    "def gcditerative(a,b):\n",
    "    r=b%a\n",
    "    if(r==0):\n",
    "        return a\n",
    "    while r!=0:\n",
    "        r=b%a\n",
    "        b=a\n",
    "        a=r\n",
    "    return b\n",
    "gcditerative(12,39)"
   ]
  },
  {
   "cell_type": "markdown",
   "metadata": {},
   "source": [
    "## Problem 10:\n",
    "Towers of hanoi.\n",
    "### Constraints:\n",
    "\n",
    "### Test cases:\n",
    "\n",
    "### Description:\n",
    "n discs -> move n-1 discs from source to temporary, then move nth disc from source to destination and then move n-1 discs from            temporary to destination.\n",
    "\n",
    "3 discs -> move 2 discs from source to temporary, then move 3rd disc from source to destination and then move the 2 discs from            temporary to destination.\n"
   ]
  },
  {
   "cell_type": "code",
   "execution_count": 31,
   "metadata": {},
   "outputs": [
    {
     "name": "stdout",
     "output_type": "stream",
     "text": [
      "move disk 1 from a to c\n",
      "move disk 2 from a to b\n",
      "move disk 1 from c to b\n",
      "move disk 3 from a to c\n",
      "move disk 1 from b to a\n",
      "move disk 2 from b to c\n",
      "move disk 1 from a to c\n"
     ]
    }
   ],
   "source": [
    "def toh(n,source,temp,dest):\n",
    "    if n==1:\n",
    "        print('move disk',n,'from',source,'to',dest)\n",
    "        return\n",
    "    else:\n",
    "        toh(n-1,source,dest,temp)\n",
    "        print('move disk',n,'from',source,'to',dest)\n",
    "        toh(n-1,temp,source,dest)\n",
    "        return\n",
    "toh(3,'a','b','c')\n",
    "    "
   ]
  },
  {
   "cell_type": "markdown",
   "metadata": {},
   "source": [
    "## Problem 11:\n",
    "Generate the nth Fibonacci series using recursion.\n",
    "### Constraints:\n",
    "1<=n<=100\n",
    "### Test cases:\n",
    "* fibonacci(5)->3\n",
    "* fibonacci(8)->13"
   ]
  },
  {
   "cell_type": "code",
   "execution_count": 34,
   "metadata": {},
   "outputs": [
    {
     "name": "stdout",
     "output_type": "stream",
     "text": [
      "3\n",
      "13\n"
     ]
    }
   ],
   "source": [
    "def fs(a):\n",
    "    if(a==1):\n",
    "        return 0\n",
    "    if(a==2):\n",
    "        return 1\n",
    "    else:\n",
    "        return fs(a-1)+fs(a-2)\n",
    "print(fs(5))\n",
    "print(fs(8))"
   ]
  },
  {
   "cell_type": "markdown",
   "metadata": {},
   "source": [
    "## Problem 12:\n",
    "Define a function to identity the number of times a substring is repeating in a given string.\n",
    "### Test cases:\n",
    "substringCount('str', 'substr') -> 1\n",
    "\n",
    "substringCount('1234567891122334455', '3') -> 3\n",
    "\n",
    "substringCount('abccddccc', 'cc') -> 3\n",
    "\n",
    "substringCount('aaaaaaa','aaa')->5"
   ]
  },
  {
   "cell_type": "code",
   "execution_count": 40,
   "metadata": {},
   "outputs": [
    {
     "name": "stdout",
     "output_type": "stream",
     "text": [
      "1\n",
      "3\n",
      "3\n",
      "5\n"
     ]
    }
   ],
   "source": [
    "def substring(a,b):\n",
    "    count=0\n",
    "    if(len(a)<len(b)):\n",
    "        return substring(b,a)\n",
    "    else:\n",
    "        j=0\n",
    "        for i in range(len(b)-1,len(a)):\n",
    "            if a[j:i+1]==b:\n",
    "                count=count+1\n",
    "            j=j+1\n",
    "        return count\n",
    "print(substring('str', 'substr'))\n",
    "\n",
    "print(substring('1234567891122334455', '3'))\n",
    "\n",
    "print(substring('abccddccc', 'cc'))\n",
    "\n",
    "print(substring('aaaaaaa','aaa'))\n",
    "\n",
    "\n",
    "\n",
    "    "
   ]
  }
 ],
 "metadata": {
  "kernelspec": {
   "display_name": "Python 3",
   "language": "python",
   "name": "python3"
  },
  "language_info": {
   "codemirror_mode": {
    "name": "ipython",
    "version": 3
   },
   "file_extension": ".py",
   "mimetype": "text/x-python",
   "name": "python",
   "nbconvert_exporter": "python",
   "pygments_lexer": "ipython3",
   "version": "3.7.3"
  }
 },
 "nbformat": 4,
 "nbformat_minor": 2
}
