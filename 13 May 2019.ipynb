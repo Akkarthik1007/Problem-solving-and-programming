{
 "cells": [
  {
   "cell_type": "markdown",
   "metadata": {},
   "source": [
    "## Problem 3:\n",
    "Define a function that take an array of integers A, and an integer K and returns the longest possible sub-set of A i.e A' such that the sum of no two elements in A' is divisible by K.\n",
    "\n",
    "First line in input contains the length of A and the integer K. Second line of input contains len(A) space-separated integers.\n",
    "\n",
    "Output must contain the length of A' list\n",
    "\n",
    "### Sample Input :    4  3\n",
    "\n",
    "1 7 2 4\n",
    "\n",
    "### Sample Output : 3"
   ]
  },
  {
   "cell_type": "code",
   "execution_count": 1,
   "metadata": {},
   "outputs": [
    {
     "name": "stdout",
     "output_type": "stream",
     "text": [
      "3\n"
     ]
    }
   ],
   "source": [
    "def longestsubset(n,k,li):\n",
    "    for i in range(n-1,-1,-1):\n",
    "        a=[1,7,2,4]\n",
    "        a.pop(i)\n",
    "        ans=istrue(a,k)\n",
    "        if ans==1:\n",
    "            return len(a)\n",
    "    for i in range(0,n-1):\n",
    "        a=[1,7,2,4]\n",
    "        a.pop(i)\n",
    "        a.pop(i)\n",
    "        ans=istrue(a,k)\n",
    "        if ans==1:\n",
    "            return len(a)\n",
    "    for i in range(0,n-2):\n",
    "        a=[1,7,2,4]\n",
    "        a.pop(i)\n",
    "        a.pop(i+1)\n",
    "        ans=istrue(a,k)\n",
    "        if ans==1:\n",
    "            return len(a)\n",
    "    for i in range(0,n-3):\n",
    "        a=[1,7,2,4]\n",
    "        a.pop(i)\n",
    "        a.pop(i+2)\n",
    "        ans=istrue(a,k)\n",
    "        if ans==1:\n",
    "            return len(a)\n",
    "    a=[1,7,2,4]\n",
    "    for i in range(0,n):\n",
    "        ans=istrue(a,k)\n",
    "        if ans==1:\n",
    "            return len(a)\n",
    "    \n",
    "def istrue(s,k):\n",
    "    for i in range(0,len(s)):\n",
    "        for j in range(i+1,len(s)):\n",
    "            if (s[i]+s[j])%k==0:\n",
    "                return 0\n",
    "        return 1\n",
    "            \n",
    "print(longestsubset(4,3,[1,7,2,4]))"
   ]
  }
 ],
 "metadata": {
  "kernelspec": {
   "display_name": "Python 3",
   "language": "python",
   "name": "python3"
  },
  "language_info": {
   "codemirror_mode": {
    "name": "ipython",
    "version": 3
   },
   "file_extension": ".py",
   "mimetype": "text/x-python",
   "name": "python",
   "nbconvert_exporter": "python",
   "pygments_lexer": "ipython3",
   "version": "3.7.3"
  }
 },
 "nbformat": 4,
 "nbformat_minor": 2
}
