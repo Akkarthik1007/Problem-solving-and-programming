{
 "cells": [
  {
   "cell_type": "markdown",
   "metadata": {},
   "source": [
    "# Problem solving and Programming\n",
    "\n",
    "### Day no - 12\n",
    "### Date - 15th May 2019"
   ]
  },
  {
   "cell_type": "markdown",
   "metadata": {},
   "source": [
    "## Packages and Modules\n",
    "\n",
    "Package - collection on python scripts(.py)\n",
    "\n",
    "Module - a python script"
   ]
  },
  {
   "cell_type": "code",
   "execution_count": 21,
   "metadata": {
    "scrolled": true
   },
   "outputs": [
    {
     "data": {
      "text/plain": [
       "720"
      ]
     },
     "execution_count": 21,
     "metadata": {},
     "output_type": "execute_result"
    }
   ],
   "source": [
    "from Pythonscripts.test3 import factorial\n",
    "factorial(6)"
   ]
  },
  {
   "cell_type": "code",
   "execution_count": 20,
   "metadata": {},
   "outputs": [
    {
     "ename": "ModuleNotFoundError",
     "evalue": "No module named 'PythonScripts'",
     "output_type": "error",
     "traceback": [
      "\u001b[1;31m---------------------------------------------------------------------------\u001b[0m",
      "\u001b[1;31mModuleNotFoundError\u001b[0m                       Traceback (most recent call last)",
      "\u001b[1;32m<ipython-input-20-a78fb62b65b2>\u001b[0m in \u001b[0;36m<module>\u001b[1;34m\u001b[0m\n\u001b[1;32m----> 1\u001b[1;33m \u001b[1;32mimport\u001b[0m \u001b[0mPythonScripts\u001b[0m\u001b[1;33m.\u001b[0m\u001b[0mtest\u001b[0m\u001b[1;33m\u001b[0m\u001b[1;33m\u001b[0m\u001b[0m\n\u001b[0m\u001b[0;32m      2\u001b[0m \u001b[0mPythonScripts\u001b[0m\u001b[1;33m.\u001b[0m\u001b[0mtest\u001b[0m\u001b[1;33m.\u001b[0m\u001b[0mfactorial\u001b[0m\u001b[1;33m(\u001b[0m\u001b[1;36m6\u001b[0m\u001b[1;33m)\u001b[0m\u001b[1;33m\u001b[0m\u001b[1;33m\u001b[0m\u001b[0m\n\u001b[0;32m      3\u001b[0m \u001b[0msumN\u001b[0m\u001b[1;33m(\u001b[0m\u001b[1;36m100\u001b[0m\u001b[1;33m)\u001b[0m\u001b[1;33m\u001b[0m\u001b[1;33m\u001b[0m\u001b[0m\n",
      "\u001b[1;31mModuleNotFoundError\u001b[0m: No module named 'PythonScripts'"
     ]
    }
   ],
   "source": [
    "import PythonScripts.test\n",
    "PythonScripts.test.factorial(6)\n",
    "sumN(100)"
   ]
  },
  {
   "cell_type": "markdown",
   "metadata": {},
   "source": [
    "## Regular Expressions\n",
    "\n",
    "0123456789\n",
    "\n",
    "[0-9] # regular expression i.e, set of numerical digits\n",
    "\n",
    "[a-z] # set of all lower case alphabets\n",
    "\n",
    "[A-Z] # set of all upper case alphabets\n",
    "\n",
    "^s* or s* # any string starting with s\n",
    "\n",
    "s+ #\n",
    "\n",
    "^a....s$ # indicates 5 character string and string starts with a and ends with s\n",
    "\n",
    "re -> regular expressions package ( it has a match function with checks if the given pattern and the test string are matched."
   ]
  },
  {
   "cell_type": "code",
   "execution_count": 25,
   "metadata": {},
   "outputs": [
    {
     "name": "stdout",
     "output_type": "stream",
     "text": [
      "match\n"
     ]
    }
   ],
   "source": [
    "import re\n",
    "pattern= '^g*'\n",
    "domain='google'\n",
    "if re.match(pattern,domain):\n",
    "    print('match')\n",
    "else:\n",
    "    print('does not match')"
   ]
  },
  {
   "cell_type": "code",
   "execution_count": 27,
   "metadata": {},
   "outputs": [
    {
     "name": "stdout",
     "output_type": "stream",
     "text": [
      "match\n"
     ]
    }
   ],
   "source": [
    "import re\n",
    "pattern='^[a-z]{2}$'\n",
    "domain='df'\n",
    "if re.match(pattern,domain):\n",
    "    print('match')\n",
    "else:\n",
    "    print('does not match')"
   ]
  },
  {
   "cell_type": "code",
   "execution_count": 30,
   "metadata": {},
   "outputs": [
    {
     "name": "stdout",
     "output_type": "stream",
     "text": [
      "does not match\n"
     ]
    }
   ],
   "source": [
    "import re\n",
    "pattern='^[a-z]{3,9}$'\n",
    "domain='gmail1'\n",
    "if re.match(pattern,domain):\n",
    "    print('match')\n",
    "else:\n",
    "    print('does not match')"
   ]
  },
  {
   "cell_type": "code",
   "execution_count": 32,
   "metadata": {},
   "outputs": [
    {
     "name": "stdout",
     "output_type": "stream",
     "text": [
      "match\n"
     ]
    }
   ],
   "source": [
    "import re\n",
    "phonenumberpattern='^[6-9][0-9]{9}'\n",
    "ph='8978836282'\n",
    "if re.match(phonenumberpattern,ph):\n",
    "    print('match')\n",
    "else:\n",
    "    print('does not match')"
   ]
  },
  {
   "cell_type": "code",
   "execution_count": 4,
   "metadata": {},
   "outputs": [
    {
     "name": "stdout",
     "output_type": "stream",
     "text": [
      "match\n"
     ]
    }
   ],
   "source": [
    "import re\n",
    "pattern='^[a-z][a-z0-9_-]{5,13}[a-z0-9][@][0-9a-z]{3,9}[.][a-z]{2,3}$'\n",
    "domain='bvbgfgerfh@cbndf.com'\n",
    "if re.match(pattern,domain):\n",
    "    print('match')\n",
    "else:\n",
    "    print('does not match')"
   ]
  },
  {
   "cell_type": "markdown",
   "metadata": {},
   "source": [
    "## Password Validation\n",
    "  * should contain atleast one upper case character\n",
    "  * length should be in the range(8,14)\n",
    "  * should contain atleast one special character\n",
    "  * should start with an upper case or lower case\n",
    "  * should contain atleast one digit"
   ]
  },
  {
   "cell_type": "code",
   "execution_count": 8,
   "metadata": {},
   "outputs": [
    {
     "name": "stdout",
     "output_type": "stream",
     "text": [
      "match\n"
     ]
    }
   ],
   "source": [
    "# Password validation\n",
    "\n",
    "import re\n",
    "pattern='^[a-zA-Z][a-zA-Z+0-9+!@#$%^&*>_+]{7,11}$'\n",
    "domain='asE@1efefeA'\n",
    "if re.match(pattern,domain):\n",
    "    print('match')\n",
    "else:\n",
    "    print('does not match')"
   ]
  },
  {
   "cell_type": "markdown",
   "metadata": {},
   "source": [
    "## Iterators in Python\n",
    "Lists,Tuples,Strings"
   ]
  },
  {
   "cell_type": "code",
   "execution_count": 10,
   "metadata": {},
   "outputs": [
    {
     "data": {
      "text/plain": [
       "3"
      ]
     },
     "execution_count": 10,
     "metadata": {},
     "output_type": "execute_result"
    }
   ],
   "source": [
    "li=[1,2,3,4,5]\n",
    "\n",
    "type(li)\n",
    "it=iter(li)\n",
    "type(it)\n",
    "next(it)\n",
    "next(it)\n",
    "next(it)"
   ]
  },
  {
   "cell_type": "code",
   "execution_count": 12,
   "metadata": {},
   "outputs": [
    {
     "name": "stdout",
     "output_type": "stream",
     "text": [
      "1 2 3 4 5 \n"
     ]
    }
   ],
   "source": [
    "for i in li:\n",
    "    print(i,end=' ')\n",
    "print(end='\\n')\n",
    "for i in it:\n",
    "    print(i,end=' ')"
   ]
  },
  {
   "cell_type": "markdown",
   "metadata": {},
   "source": [
    "## Generators in Python"
   ]
  },
  {
   "cell_type": "code",
   "execution_count": 14,
   "metadata": {},
   "outputs": [
    {
     "name": "stdout",
     "output_type": "stream",
     "text": [
      "1 4 9 16 25 36 49 64 81 "
     ]
    }
   ],
   "source": [
    "li=[i**2 for i in range(1,10)]\n",
    "li\n",
    "\n",
    "gn=(i**2 for i in range(1,10))\n",
    "\n",
    "for i in gn :\n",
    "    print(i,end=' ')\n",
    "\n"
   ]
  }
 ],
 "metadata": {
  "kernelspec": {
   "display_name": "Python 3",
   "language": "python",
   "name": "python3"
  },
  "language_info": {
   "codemirror_mode": {
    "name": "ipython",
    "version": 3
   },
   "file_extension": ".py",
   "mimetype": "text/x-python",
   "name": "python",
   "nbconvert_exporter": "python",
   "pygments_lexer": "ipython3",
   "version": "3.7.3"
  }
 },
 "nbformat": 4,
 "nbformat_minor": 2
}
