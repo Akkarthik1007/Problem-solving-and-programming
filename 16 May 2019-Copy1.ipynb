{
 "cells": [
  {
   "cell_type": "markdown",
   "metadata": {},
   "source": [
    "# Problem Solving and Programming\n",
    "\n",
    "### Day no - 13\n",
    "\n",
    "### Date - 16 May 2019"
   ]
  },
  {
   "cell_type": "markdown",
   "metadata": {},
   "source": [
    "### Problem 1:\n",
    "#### Problem statement:\n",
    "Define functionto read the data froma text file.\n",
    "\n",
    "f.read() -> to read entire data in the file\n",
    "\n",
    "f.readline() -> to read a single line of data in the file"
   ]
  },
  {
   "cell_type": "code",
   "execution_count": 2,
   "metadata": {},
   "outputs": [
    {
     "data": {
      "text/plain": [
       "'Data in line 1\\n'"
      ]
     },
     "execution_count": 2,
     "metadata": {},
     "output_type": "execute_result"
    }
   ],
   "source": [
    "def readfiledata(filename):\n",
    "    f=open(filename,'r')\n",
    "    filedata=f.readline()\n",
    "    f.close()\n",
    "    return filedata\n",
    "readfiledata('Datafiles/data.txt')"
   ]
  },
  {
   "cell_type": "code",
   "execution_count": 4,
   "metadata": {},
   "outputs": [
    {
     "data": {
      "text/plain": [
       "'Data in line 1\\nData in line 2\\n'"
      ]
     },
     "execution_count": 4,
     "metadata": {},
     "output_type": "execute_result"
    }
   ],
   "source": [
    "def readfiledata(filename):\n",
    "    f=open(filename,'r')\n",
    "    filedata=f.readline()\n",
    "    filedata += f.readline()\n",
    "    f.close()\n",
    "    return filedata\n",
    "readfiledata('Datafiles/data.txt')"
   ]
  },
  {
   "cell_type": "code",
   "execution_count": 8,
   "metadata": {},
   "outputs": [
    {
     "data": {
      "text/plain": [
       "'Data in line 1\\n'"
      ]
     },
     "execution_count": 8,
     "metadata": {},
     "output_type": "execute_result"
    }
   ],
   "source": [
    "def readfiledata(filename):\n",
    "    with open(filename,'r') as f:\n",
    "        filedata=f.readline()\n",
    "   \n",
    "  \n",
    "    return filedata\n",
    "readfiledata('Datafiles/data.txt')"
   ]
  },
  {
   "cell_type": "code",
   "execution_count": 22,
   "metadata": {},
   "outputs": [
    {
     "name": "stdout",
     "output_type": "stream",
     "text": [
      "Data in line 1\n",
      "Data in line 2\n",
      "Data in line 3\n"
     ]
    }
   ],
   "source": [
    "def readfiledata(filename):\n",
    "    with open(filename,'r') as f:\n",
    "        #for line in f:\n",
    "        #    print(line,end='')\n",
    "        print(f.read())\n",
    "   \n",
    "  \n",
    "    return\n",
    "readfiledata('Datafiles/data.txt')"
   ]
  },
  {
   "cell_type": "code",
   "execution_count": 26,
   "metadata": {},
   "outputs": [],
   "source": [
    "def writeintofile(filename,data):\n",
    "    with open(filename,'w') as f:\n",
    "        f.write(data)\n",
    "    return \n",
    "\n",
    "writeintofile('Datafiles/filewrite.txt','data written into filewrite')\n"
   ]
  },
  {
   "cell_type": "code",
   "execution_count": 30,
   "metadata": {},
   "outputs": [],
   "source": [
    "def writeintofile(filename,data,mode):\n",
    "    with open(filename,mode) as f:\n",
    "        f.write(data)\n",
    "    return \n",
    "\n",
    "writeintofile('Datafiles/filewrite.txt','\\nsecond line','a')"
   ]
  },
  {
   "cell_type": "markdown",
   "metadata": {},
   "source": [
    "## Problem 2:\n",
    "Define function to generate marks data file (text file) for 1300 students such that each mark is entered in a new line. Marks range from 0 to 100(inclusive) as random numbers."
   ]
  },
  {
   "cell_type": "code",
   "execution_count": 32,
   "metadata": {},
   "outputs": [],
   "source": [
    "from random import randrange\n",
    "def writeintofile(filename):\n",
    "    with open(filename,'w') as f:\n",
    "        for i in range(1,1301):\n",
    "            f.write(str(randrange(0,101)))\n",
    "            f.write('\\n')\n",
    "    return\n",
    "writeintofile('Datafiles/marks.txt')\n",
    "        "
   ]
  },
  {
   "cell_type": "markdown",
   "metadata": {},
   "source": [
    "## Problem 3:\n",
    "### Problem Statement:\n",
    "Generate a report on the marks data with the following indicators.\n",
    "* Highest mark\n",
    "* Lowest mark\n",
    "* Average mark\n",
    "* No of students with distinction(>80):\n",
    "* No of students with first class(>60):\n",
    "* No of students with second class(>50):\n",
    "* No of students with third class(>40):\n",
    "* No of students failed(<40):"
   ]
  },
  {
   "cell_type": "code",
   "execution_count": 54,
   "metadata": {},
   "outputs": [],
   "source": [
    "def readfiledata(filename):\n",
    "    with open(filename,'r') as f:\n",
    "        marks=f.read()\n",
    "        for line in f:\n",
    "            marks.append(int(line))\n",
    "    return marks\n",
    "\n",
    "def generatereport(filename):\n",
    "    marks=readfiledata('Datafiles/marks.txt')\n",
    "    with open(filename,'w') as f:\n",
    "        f.write('Highest mark:'+str(max(marks))+'\\n')\n",
    "        f.write('Lowest mark:'+str(min(marks))+'\\n')\n",
    "        f.write('Average mark:'+str(sum(marks)/len(marks))+'\\n')\n",
    "        count=0\n",
    "        for x in marks:\n",
    "            if x>=80:\n",
    "                count=count+1\n",
    "        f.write('No of students with distinction:'+str(count)+'\\n')\n",
    "        count=0\n",
    "        for x in marks:\n",
    "            if x>=60 and x<80:\n",
    "                count=count+1\n",
    "        f.write('No of students with first class:'+str(count)+'\\n')\n",
    "        count=0\n",
    "        for x in marks:\n",
    "            if x>=50 and x<60:\n",
    "                count=count+1\n",
    "        f.write('No of students with second class:'+str(count)+'\\n')\n",
    "        count=0\n",
    "        for x in marks:\n",
    "            if x>=40 and x<50:\n",
    "                count=count+1\n",
    "        f.write('No of students with third class:'+str(count)+'\\n')\n",
    "        count=0\n",
    "        for x in marks:\n",
    "            if x<40:\n",
    "                count=count+1\n",
    "        f.write('No of students failed:'+str(count))\n",
    "        \n",
    "    return\n",
    "        \n",
    "generatereport('Datafiles/report.txt')           \n",
    "    \n",
    "\n",
    "        \n",
    "    "
   ]
  },
  {
   "cell_type": "code",
   "execution_count": 59,
   "metadata": {},
   "outputs": [
    {
     "data": {
      "text/plain": [
       "['1', '2', '3', '4', '5', '6']"
      ]
     },
     "execution_count": 59,
     "metadata": {},
     "output_type": "execute_result"
    }
   ],
   "source": [
    "def square(n):\n",
    "    return n * n\n",
    "li=[1,2,3,4,5,6]\n",
    "#s = str(li)\n",
    "s = list(map(str,li))\n",
    "s"
   ]
  },
  {
   "cell_type": "code",
   "execution_count": 71,
   "metadata": {},
   "outputs": [
    {
     "name": "stdout",
     "output_type": "stream",
     "text": [
      "0.00016527499974472448\n"
     ]
    },
    {
     "data": {
      "text/plain": [
       "[1.0, 2.0, 3.0, 4.0, 5.0, 6.0]"
      ]
     },
     "execution_count": 71,
     "metadata": {},
     "output_type": "execute_result"
    }
   ],
   "source": [
    "import timeit\n",
    "def square(n):\n",
    "    return n * n\n",
    "st=timeit.default_timer()\n",
    "li=[1,2,3,4,5,6]\n",
    "#s = str(li)\n",
    "s = list(map(str,li))\n",
    "\n",
    "s = [float(i) for i in s]\n",
    "print(timeit.default_timer()-st)\n",
    "s\n"
   ]
  },
  {
   "cell_type": "code",
   "execution_count": null,
   "metadata": {},
   "outputs": [],
   "source": []
  }
 ],
 "metadata": {
  "kernelspec": {
   "display_name": "Python 3",
   "language": "python",
   "name": "python3"
  },
  "language_info": {
   "codemirror_mode": {
    "name": "ipython",
    "version": 3
   },
   "file_extension": ".py",
   "mimetype": "text/x-python",
   "name": "python",
   "nbconvert_exporter": "python",
   "pygments_lexer": "ipython3",
   "version": "3.7.3"
  }
 },
 "nbformat": 4,
 "nbformat_minor": 2
}
