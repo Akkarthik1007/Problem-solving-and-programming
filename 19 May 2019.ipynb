{
 "cells": [
  {
   "cell_type": "markdown",
   "metadata": {},
   "source": [
    "# Problem Solving and Programming\n",
    "\n",
    "### Day no - 16\n",
    "\n",
    "### Date - 19 May 2019"
   ]
  },
  {
   "cell_type": "markdown",
   "metadata": {},
   "source": [
    "Consider the following algorithm to generate a sequence of numbers. Start with an\n",
    "\n",
    "integer n. If n is even, divide by 2. If n is odd, multiply by 3 and add 1. Repeat this\n",
    "\n",
    "process with the new value of n, terminating when n = 1. For example, the following\n",
    "\n",
    "sequence of numbers will be generated for n = 22:\n",
    "\n",
    "\n",
    "\n",
    "22 11 34 17 52 26 13 40 20 10 5 16 8 4 2 1\n",
    "\n",
    "\n",
    "\n",
    "It is conjectured (but not yet proven) that this algorithm will terminate at n = 1 for\n",
    "\n",
    "every integer n. Still, the conjecture holds for all integers up to at least 1, 000, 000.\n",
    "\n",
    "For an input n, the cycle-length of n is the number of numbers generated up to and\n",
    "\n",
    "including the 1. In the example above, the cycle length of 22 is 16. Given any two\n",
    "\n",
    "numbers i and j, you are to determine the maximum cycle length over all numbers\n",
    "\n",
    "between i and j, including both endpoints."
   ]
  },
  {
   "cell_type": "code",
   "execution_count": 43,
   "metadata": {},
   "outputs": [
    {
     "name": "stdout",
     "output_type": "stream",
     "text": [
      "174\n"
     ]
    },
    {
     "data": {
      "text/plain": [
       "0.0018789339992508758"
      ]
     },
     "execution_count": 43,
     "metadata": {},
     "output_type": "execute_result"
    }
   ],
   "source": [
    "import timeit\n",
    "def seqnum(i,j):\n",
    "    s = timeit.default_timer()\n",
    "    max = 0\n",
    "    while(i <= j):\n",
    "        new=i\n",
    "        count=1\n",
    "        while(i>1):\n",
    "            if i%2==0:\n",
    "                i=i//2\n",
    "                count=count+1\n",
    "            else:\n",
    "                i=(3*i)+1\n",
    "                count=count+1\n",
    "        if(count>max):\n",
    "            max = count\n",
    "        i = new\n",
    "        i = i+1\n",
    "    print(max)\n",
    "    return timeit.default_timer()-s\n",
    "seqnum(900,1000)\n",
    "        \n",
    "    "
   ]
  },
  {
   "cell_type": "code",
   "execution_count": 81,
   "metadata": {},
   "outputs": [
    {
     "data": {
      "text/plain": [
       "89"
      ]
     },
     "execution_count": 81,
     "metadata": {},
     "output_type": "execute_result"
    }
   ],
   "source": [
    "def cyclelength(n):\n",
    "    length=1\n",
    "    while(n!=1):\n",
    "        if n%2==0:\n",
    "            n = n//2\n",
    "            length += 1\n",
    "        else:\n",
    "            n = 3*n+1\n",
    "            length += 1\n",
    "    return length\n",
    "def mainsol(i,j):    \n",
    "    #return max(map(cyclelength,range(i,j+1)))\n",
    "    lenlist=[cyclelength(k) for k in range(i,j+1)]\n",
    "    return max(lenlist)\n",
    "mainsol(201,210)\n",
    "\n",
    "            \n"
   ]
  }
 ],
 "metadata": {
  "kernelspec": {
   "display_name": "Python 3",
   "language": "python",
   "name": "python3"
  },
  "language_info": {
   "codemirror_mode": {
    "name": "ipython",
    "version": 3
   },
   "file_extension": ".py",
   "mimetype": "text/x-python",
   "name": "python",
   "nbconvert_exporter": "python",
   "pygments_lexer": "ipython3",
   "version": "3.7.3"
  }
 },
 "nbformat": 4,
 "nbformat_minor": 2
}
