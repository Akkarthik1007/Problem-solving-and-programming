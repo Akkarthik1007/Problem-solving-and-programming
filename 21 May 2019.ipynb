{
 "cells": [
  {
   "cell_type": "markdown",
   "metadata": {},
   "source": [
    "# Problem Solving and Programming\n",
    "\n",
    "### Day - 18\n",
    "\n",
    "### Date - 21 May 2019"
   ]
  },
  {
   "cell_type": "markdown",
   "metadata": {},
   "source": [
    "## Problem 1:\n",
    "Binary search."
   ]
  },
  {
   "cell_type": "code",
   "execution_count": 63,
   "metadata": {
    "scrolled": true
   },
   "outputs": [
    {
     "data": {
      "text/plain": [
       "5"
      ]
     },
     "execution_count": 63,
     "metadata": {},
     "output_type": "execute_result"
    }
   ],
   "source": [
    "#midindex = leftindex + (rightindex - leftindex)//2\n",
    "def bs(a,leftindex,rightindex,taritem):\n",
    "    while(leftindex<=rightindex):\n",
    "        midindex = leftindex + (rightindex - leftindex)//2\n",
    "        if(a[midindex] == taritem):\n",
    "            return midindex\n",
    "        if(a[midindex] > taritem):\n",
    "            rightindex = midindex - 1\n",
    "        else:\n",
    "            leftindex = midindex + 1\n",
    "    return -1\n",
    "a = [1,12,25,45,57,99]\n",
    "bs(a,0,5,99)\n"
   ]
  }
 ],
 "metadata": {
  "kernelspec": {
   "display_name": "Python 3",
   "language": "python",
   "name": "python3"
  },
  "language_info": {
   "codemirror_mode": {
    "name": "ipython",
    "version": 3
   },
   "file_extension": ".py",
   "mimetype": "text/x-python",
   "name": "python",
   "nbconvert_exporter": "python",
   "pygments_lexer": "ipython3",
   "version": "3.7.3"
  }
 },
 "nbformat": 4,
 "nbformat_minor": 2
}
