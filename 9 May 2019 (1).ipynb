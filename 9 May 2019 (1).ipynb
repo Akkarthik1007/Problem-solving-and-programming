{
 "cells": [
  {
   "cell_type": "markdown",
   "metadata": {},
   "source": [
    "## Problem 1:\n",
    "\n",
    "Program to find greatest among 3 numbers.\n",
    "\n"
   ]
  },
  {
   "cell_type": "code",
   "execution_count": 7,
   "metadata": {},
   "outputs": [
    {
     "data": {
      "text/plain": [
       "7"
      ]
     },
     "execution_count": 7,
     "metadata": {},
     "output_type": "execute_result"
    }
   ],
   "source": [
    "def greatest3(a,b,c):\n",
    "    if(a>b and a>c):\n",
    "        return a\n",
    "    elif(b>c):\n",
    "        return b\n",
    "    else:\n",
    "        return c\n",
    "\n",
    "greatest3(5,6,7)"
   ]
  },
  {
   "cell_type": "markdown",
   "metadata": {},
   "source": [
    "## Problem 2:\n",
    "Testing divisibility with 2 and 3 but not 4.\n",
    "### constraints\n",
    "n should be in range of (1,10^9)\n",
    "\n"
   ]
  },
  {
   "cell_type": "code",
   "execution_count": 6,
   "metadata": {},
   "outputs": [
    {
     "data": {
      "text/plain": [
       "False"
      ]
     },
     "execution_count": 6,
     "metadata": {},
     "output_type": "execute_result"
    }
   ],
   "source": [
    "def divisibilitywith2and3not4(a):\n",
    "    if(a%2==0 and a%3==0 and a%4!=0):\n",
    "        return True\n",
    "    else:\n",
    "        return False\n",
    "\n",
    "    \n",
    "divisibilitywith2and3not4(45)\n",
    "            "
   ]
  },
  {
   "cell_type": "markdown",
   "metadata": {},
   "source": [
    "## Problem 3:\n",
    "Given 2 ints, a and b, return True if one if them is 10 or if their sum is 10.\n",
    "### Test cases:\n",
    "makes10(9, 10) → True\n",
    "\n",
    "makes10(9, 9) → False\n",
    "\n",
    "makes10(1, 9) → True\n",
    "\n"
   ]
  },
  {
   "cell_type": "code",
   "execution_count": 19,
   "metadata": {},
   "outputs": [
    {
     "name": "stdout",
     "output_type": "stream",
     "text": [
      "True\n",
      "False\n",
      "True\n"
     ]
    }
   ],
   "source": [
    "def makes10(a,b):\n",
    "    if(a+b==10 or a==10 or b==10):\n",
    "        return True\n",
    "    else:\n",
    "        return False\n",
    "\n",
    "print(makes10(9, 10))\n",
    "\n",
    "print(makes10(9, 9))\n",
    "\n",
    "print(makes10(1, 9)) "
   ]
  },
  {
   "cell_type": "markdown",
   "metadata": {},
   "source": [
    "## Problem 4:\n",
    "Given 2 int values, return True if one is negative and one is positive. Except if the parameter \"negative\" is True, then return True only if both are negative.\n",
    "### Test cases:\n",
    "pos_neg(1, -1, False) → True \n",
    "\n",
    "pos_neg(-1, 1, False) → True \n",
    "\n",
    "pos_neg(-4, -5, True) → True\n",
    "\n",
    "pos_neg(-1, 1, True)  → False\n",
    "\n",
    "pos_neg(1, 6, True) → False\n",
    "\n",
    "pos_neg(-1, -9, False) → False"
   ]
  },
  {
   "cell_type": "code",
   "execution_count": 8,
   "metadata": {},
   "outputs": [
    {
     "name": "stdout",
     "output_type": "stream",
     "text": [
      "True\n",
      "True\n",
      "True\n",
      "False\n",
      "False\n",
      "False\n"
     ]
    }
   ],
   "source": [
    "def pos_neg(a,b,c):\n",
    "    if(a>0 and b<0 and c==0) or (a<0 and b>0 and c==0) or (a<0 and b<0 and c==1) :\n",
    "        return True\n",
    "    else:\n",
    "        return False\n",
    "print(pos_neg(1,-1,False))\n",
    "print(pos_neg(-1,1,False))\n",
    "print(pos_neg(-4,-5,True))\n",
    "print(pos_neg(-1,1,True))\n",
    "print(pos_neg(1,6,True))\n",
    "print(pos_neg(-1,-9,False))        "
   ]
  },
  {
   "cell_type": "markdown",
   "metadata": {},
   "source": [
    "## Problem 5:\n",
    "Given an int n, return True if it is within 10 of 100 or 200. Note: abs(num) computes the absolute value of a number.\n",
    "### Test cases:\n",
    "near_hundred(93) → True\n",
    "\n",
    "near_hundred(90) → True\n",
    "\n",
    "near_hundred(89) → False\n"
   ]
  },
  {
   "cell_type": "code",
   "execution_count": 18,
   "metadata": {},
   "outputs": [
    {
     "name": "stdout",
     "output_type": "stream",
     "text": [
      "True\n",
      "True\n",
      "False\n"
     ]
    }
   ],
   "source": [
    "def near_hundred(a):\n",
    "    if(a>=90 and a<=110) or (a>=190 and a<=210):\n",
    "        return True\n",
    "    else:\n",
    "        return False\n",
    "\n",
    "print(near_hundred(93))\n",
    "print(near_hundred(90)) \n",
    "print(near_hundred(89))"
   ]
  },
  {
   "cell_type": "markdown",
   "metadata": {},
   "source": [
    "## Problem 6:\n",
    "Factorial of a given number as a procedure.\n",
    "### Test cases:\n",
    "Factorial(5) -> 120\n",
    "\n",
    "Factorial (6) -> 720"
   ]
  },
  {
   "cell_type": "code",
   "execution_count": 21,
   "metadata": {},
   "outputs": [
    {
     "name": "stdout",
     "output_type": "stream",
     "text": [
      "120\n",
      "720\n"
     ]
    }
   ],
   "source": [
    "def factorial(a):\n",
    "    if(a!=0):\n",
    "        f=a*factorial(a-1)\n",
    "        return f\n",
    "    else:\n",
    "        return 1\n",
    "print(factorial(5))\n",
    "print(factorial(6))"
   ]
  },
  {
   "cell_type": "markdown",
   "metadata": {},
   "source": [
    "## Problem 7:\n",
    "Given an integer n, generate sum of n random numbers.\n"
   ]
  },
  {
   "cell_type": "code",
   "execution_count": 23,
   "metadata": {},
   "outputs": [
    {
     "data": {
      "text/plain": [
       "51713941678497849"
      ]
     },
     "execution_count": 23,
     "metadata": {},
     "output_type": "execute_result"
    }
   ],
   "source": [
    "import random\n",
    "\n",
    "def sumrandomnumbers(n,lb,ub):\n",
    "    sum=0\n",
    "    for i in range(1,n+1):\n",
    "        sum=sum+random.randint(lb,ub)\n",
    "    return sum\n",
    "\n",
    "sumrandomnumbers(100,0,10**15)\n"
   ]
  },
  {
   "cell_type": "markdown",
   "metadata": {},
   "source": [
    "## Problem 8:\n",
    "Create a random number generator as a procedure which takes the range(lb,ub) and returns a random number in the given range.\n",
    "### Constraints:\n",
    "1<=lb<=10\n",
    "\n",
    "10<=ub<=100\n",
    "### Test cases:\n",
    "randomgenerator(1,101)->within the range(2,101)"
   ]
  },
  {
   "cell_type": "code",
   "execution_count": 60,
   "metadata": {},
   "outputs": [
    {
     "data": {
      "text/plain": [
       "95"
      ]
     },
     "execution_count": 60,
     "metadata": {},
     "output_type": "execute_result"
    }
   ],
   "source": [
    "from random import randrange\n",
    "\n",
    "def randomgenerator(lb,ub):\n",
    "    return randrange(lb+1,ub)\n",
    "randomgenerator(1,101)"
   ]
  },
  {
   "cell_type": "markdown",
   "metadata": {},
   "source": [
    "## Problem 9:\n",
    "Given an integer n, Generate natural numbers upto n.\n",
    "#### Constraints:\n",
    "1<=n<=1000"
   ]
  },
  {
   "cell_type": "code",
   "execution_count": 100,
   "metadata": {},
   "outputs": [
    {
     "name": "stdout",
     "output_type": "stream",
     "text": [
      "[1, 2, 3, 4, 5, 6, 7, 8, 9, 10, 11, 12, 13, 14, 15, 16, 17, 18, 19, 20, 21, 22, 23, 24, 25, 26, 27, 28, 29, 30]\n"
     ]
    }
   ],
   "source": [
    "def natural(n):\n",
    "    a=[]\n",
    "    for i in range(1,n+1):\n",
    "        a.append(i)\n",
    "    return a\n",
    "print(natural(30))"
   ]
  },
  {
   "cell_type": "markdown",
   "metadata": {},
   "source": [
    "## Program 10:\n",
    "Design a procedure to perform linear search on list of n unsorted unique numbers. It take an array and the key element to be searched and returns the index of the element of key element if found. Else returns -1.\n",
    "#### Constraints:\n",
    "#### Test cases:\n",
    "linearsearch([ 1,4,8,0,3,5,6],3)->4\n",
    "\n",
    "linearsearch([15,12,9,6,3,-3],0)->-1\n",
    "\n",
    "linearsearch([321,543,567,789],567)->2\n"
   ]
  },
  {
   "cell_type": "code",
   "execution_count": 66,
   "metadata": {},
   "outputs": [
    {
     "name": "stdout",
     "output_type": "stream",
     "text": [
      "4\n",
      "-1\n",
      "2\n"
     ]
    }
   ],
   "source": [
    "a=[1,4,8,0,3,5,6]\n",
    "def linearsearch(a,key):\n",
    "    for i in range(0,len(a)):\n",
    "        if(a[i]==key):\n",
    "            return i\n",
    "    return -1\n",
    "    \n",
    "print(linearsearch([1,4,8,0,3,5,6],3))\n",
    "print(linearsearch([15,12,9,6,3,-3],0))\n",
    "print(linearsearch([321,543,567,789],567))\n",
    "    "
   ]
  },
  {
   "cell_type": "markdown",
   "metadata": {},
   "source": [
    "## Program 11:\n",
    "Procedure to print the list of factors of a given number.\n",
    "### Test cases:\n",
    "FactorList(6)  ->  1 2 3 6\n",
    "\n",
    "FactorList (9) ->   1 3 9\n",
    "\n",
    "FactorList (19) ->  1  19"
   ]
  },
  {
   "cell_type": "code",
   "execution_count": 104,
   "metadata": {},
   "outputs": [
    {
     "name": "stdout",
     "output_type": "stream",
     "text": [
      "[1, 2, 3, 6]\n",
      "[1, 3, 9]\n",
      "[1, 19]\n"
     ]
    }
   ],
   "source": [
    "def lof(a):\n",
    "    li=[]\n",
    "    for i in range(1,(a//2)+1):\n",
    "        if(a%i==0):\n",
    "            li.append(i)\n",
    "    li.append(a)\n",
    "    return li\n",
    "\n",
    "print(lof(6)) \n",
    "\n",
    "print(lof(9))\n",
    "\n",
    "print(lof(19))\n",
    "    \n",
    "    "
   ]
  },
  {
   "cell_type": "markdown",
   "metadata": {},
   "source": [
    "## Program 12:\n",
    "Procedure to check if a given number is Prime and returns a Boolean value.\n",
    "### Test cases:\n",
    "  IsPrime(7) -> True\n",
    "\n",
    "  IsPrime(9) ->  False\n",
    "\n",
    "\n",
    "\n"
   ]
  },
  {
   "cell_type": "code",
   "execution_count": 81,
   "metadata": {},
   "outputs": [
    {
     "name": "stdout",
     "output_type": "stream",
     "text": [
      "7 is prime\n",
      "9 is not prime\n"
     ]
    }
   ],
   "source": [
    "def isprime(n):\n",
    "    for i in range(2,n):\n",
    "        if(n%i==0):\n",
    "            print(n,'is not prime')\n",
    "            return\n",
    "    print(n,'is prime')\n",
    "isprime(7)\n",
    "isprime(9)\n",
    "        \n",
    "    \n"
   ]
  },
  {
   "cell_type": "markdown",
   "metadata": {},
   "source": [
    "## Program 13:\n",
    "Procedure to generate multiplication tables. \n",
    "### Test cases:\n",
    " MT(3, 5, 7) -> 3 X 5 = 15\n",
    "\n",
    "            3 X 6 = 18\n",
    "\n",
    "            3 X 7 = 21"
   ]
  },
  {
   "cell_type": "code",
   "execution_count": 97,
   "metadata": {},
   "outputs": [
    {
     "name": "stdout",
     "output_type": "stream",
     "text": [
      "3 x 5 = 15\n",
      "3 x 6 = 18\n",
      "3 x 7 = 21\n"
     ]
    }
   ],
   "source": [
    "def mt(a,lb,ub):\n",
    "    for i in range(lb,ub+1):\n",
    "        print(a,'x',i,\"=\",a*i)\n",
    "mt(3,5,7)"
   ]
  },
  {
   "cell_type": "markdown",
   "metadata": {},
   "source": [
    "## Program 14:\n",
    "Procedure to count the number of digits in a given number.\n",
    "### Test cases:\n",
    " CountDigits(123456) ->  6\n",
    "\n",
    " CountDigits (0) ->  1\n",
    " \n",
    " CountDigits (1234567896352417) -> 16"
   ]
  },
  {
   "cell_type": "code",
   "execution_count": 96,
   "metadata": {},
   "outputs": [
    {
     "name": "stdout",
     "output_type": "stream",
     "text": [
      "6\n",
      "1\n",
      "16\n"
     ]
    }
   ],
   "source": [
    "def cd(a):\n",
    "    return len(str(a))\n",
    "print(cd(123456))\n",
    "print(cd(0))\n",
    "print(cd(1234567896352417))"
   ]
  }
 ],
 "metadata": {
  "kernelspec": {
   "display_name": "Python 3",
   "language": "python",
   "name": "python3"
  },
  "language_info": {
   "codemirror_mode": {
    "name": "ipython",
    "version": 3
   },
   "file_extension": ".py",
   "mimetype": "text/x-python",
   "name": "python",
   "nbconvert_exporter": "python",
   "pygments_lexer": "ipython3",
   "version": "3.7.3"
  }
 },
 "nbformat": 4,
 "nbformat_minor": 2
}
