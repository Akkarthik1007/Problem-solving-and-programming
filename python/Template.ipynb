{
 "cells": [
  {
   "cell_type": "markdown",
   "metadata": {},
   "source": [
    "# Problem Solving and Programming\n",
    "\n",
    "### Day no-\n",
    "### Date-\n",
    "\n",
    "### Day outcomes:\n",
    " * Objective 1\n",
    " * Objective 2\n",
    " \n",
    " ### Problem 1:\n",
    " #### Problem Statement:\n",
    " \n",
    " #### Constraints\n",
    " #### Test cases\n",
    " * test case 1\n",
    " * test case 2\n",
    " * test case 3 \n",
    " \n",
    " \n",
    " \n",
    " \n",
    " \n",
    " "
   ]
  }
 ],
 "metadata": {
  "kernelspec": {
   "display_name": "Python 3",
   "language": "python",
   "name": "python3"
  },
  "language_info": {
   "codemirror_mode": {
    "name": "ipython",
    "version": 3
   },
   "file_extension": ".py",
   "mimetype": "text/x-python",
   "name": "python",
   "nbconvert_exporter": "python",
   "pygments_lexer": "ipython3",
   "version": "3.7.3"
  }
 },
 "nbformat": 4,
 "nbformat_minor": 2
}
